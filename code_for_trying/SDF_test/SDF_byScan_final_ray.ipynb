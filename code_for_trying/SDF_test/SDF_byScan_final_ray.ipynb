{
 "cells": [
  {
   "cell_type": "markdown",
   "id": "80f276d4-8928-465a-ae2b-ac2e0f1fc0c5",
   "metadata": {},
   "source": [
    "__This Is The Final One__"
   ]
  },
  {
   "cell_type": "code",
   "execution_count": 1,
   "id": "6be389f4-5ed9-42c2-864f-d62699209360",
   "metadata": {},
   "outputs": [
    {
     "name": "stdout",
     "output_type": "stream",
     "text": [
      "Jupyter environment detected. Enabling Open3D WebVisualizer.\n",
      "[Open3D INFO] WebRTC GUI backend enabled.\n",
      "[Open3D INFO] WebRTCWindowSystem: HTTP handshake server disabled.\n",
      "[0.181869 -0.146326 0.484344]\n",
      "Tensor[shape={3}, stride={1}, Float32, CPU:0, 0x18fbcac84a0]\n",
      "center: [0.18186891078948975, -0.14632552862167358, 0.4843443036079407]\n"
     ]
    }
   ],
   "source": [
    "import open3d as o3d\n",
    "import numpy as np\n",
    "#Directly use point cloud...\n",
    "#【Load point cloud data】 (指是為了顯示方便而已, 實際是用mesh去算)\n",
    "ply_file_path = (\"../PointCloud/TomatoPlant_size_modified_only1tomato.ply\")\n",
    "pcd = o3d.io.read_point_cloud(ply_file_path)\n",
    "pcd.paint_uniform_color([0, 0.5, 0.5]) #把point cloud data統一是綠色\n",
    "\n",
    "#【Load mesh data】\n",
    "mesh0 = o3d.io.read_triangle_mesh(ply_file_path)\n",
    "mesh = o3d.t.geometry.TriangleMesh.from_legacy(mesh0)\n",
    "\n",
    "#【求mesh 的 中心】(變成[center_x, center_y, center_z] 的形式)\n",
    "mesh_center = mesh.get_center()\n",
    "print(mesh_center)\n",
    "# Extract the individual scalar values from the Tensor\n",
    "center_x = mesh_center[0].item() #<Note>.item(): 是因為mesh.get_center()是抓到tensor\n",
    "center_y = mesh_center[1].item()\n",
    "center_z = mesh_center[2].item()\n",
    "# Create the center list\n",
    "center = [center_x, center_y, center_z]\n",
    "\n",
    "print(\"center:\",center)\n",
    "\n",
    "# 【Create a scene and add the triangle mesh】把mesh放進ray scan的空間，為了下面的ray scan\n",
    "scene = o3d.t.geometry.RaycastingScene()\n",
    "_ = scene.add_triangles(mesh)  # we do not need the geometry ID for mesh"
   ]
  },
  {
   "cell_type": "code",
   "execution_count": 2,
   "id": "73f68de2-c35b-488e-8627-0b62b0f0c642",
   "metadata": {},
   "outputs": [
    {
     "name": "stdout",
     "output_type": "stream",
     "text": [
      "(5000, 3)\n"
     ]
    }
   ],
   "source": [
    "#【建立sample point】\n",
    "# [a. 建立各方向的sample point]\n",
    "# N = 10000\n",
    "# query_points = np.random.uniform(low=min_bound, high=max_bound,\n",
    "                                 # size=[N, 3]).astype(np.float32)\n",
    "# [b. 建立球型的sample point]\n",
    "# center = np.array([0.0, 0.0, 0.0])  # Adjust the center as needed\n",
    "radius = 0.2  # Adjust the radius as needed\n",
    "N = 5000  # Number of points to generate\n",
    "\n",
    "# Generate random points in the z-plane within a specific radius\n",
    "phi = np.random.uniform(0, 2 * np.pi, N)  # Azimuthal angle\n",
    "# costheta = np.random.uniform(-1, 1, N)  # Cosine of the polar angle (想要整圈, 想要上半圈就 0~1) \n",
    "costheta = 0  # 如果是只想要再z平面的話\n",
    "theta = np.arccos(costheta)  # Polar angle\n",
    "r = np.random.uniform(0, radius, N)\n",
    "# Convert spherical coordinates to Cartesian coordinates\n",
    "x = center[0] + r * np.sin(theta) * np.cos(phi)\n",
    "y = center[1] + r * np.sin(theta) * np.sin(phi)\n",
    "z = center[2] + r * np.cos(theta)\n",
    "\n",
    "#想要查SDF value的那個點(query_points要裝[[a,b,c]]的nest list 型式去裝點)\n",
    "query_points = np.stack([x, y, z], axis=-1).astype(np.float32)\n",
    "# query_points = o3d.core.Tensor([[16,16,16]], dtype=o3d.core.Dtype.Float32)\n",
    "print(query_points.shape)\n",
    "\n",
    "\n",
    "# Initialize empty lists for points and colors\n",
    "points = []\n",
    "colors = []\n",
    "\n",
    "def add_point(point, color):\n",
    "    global points, colors\n",
    "    points.append(point)\n",
    "    colors.append(color)\n",
    "\n",
    "#跑過每個要查的點，如果SDF<=0代表在mesh內側，就要顯示乘紅色(之後就是就要information gain 為1)\n",
    "for point_q in query_points:\n",
    "    point_q_formed=[[point_q]]\n",
    "    signed_distance = scene.compute_signed_distance(point_q_formed)\n",
    "    # print(\"query_points: \", query_points)\n",
    "    occupancy = scene.compute_occupancy(point_q_formed)\n",
    "    \n",
    "    if (signed_distance <= 0): #表示在裡面\n",
    "        add_point(point_q, [1, 0, 0])  # Red color\n",
    "        # print(signed_distance)\n",
    "    else: \n",
    "        add_point(point_q, [0, 0, 1])\n",
    "    "
   ]
  },
  {
   "cell_type": "code",
   "execution_count": 3,
   "id": "21037239-bc05-48e1-925c-681b9d9c3f65",
   "metadata": {},
   "outputs": [
    {
     "name": "stdout",
     "output_type": "stream",
     "text": [
      "[Open3D WARNING] GLFW Error: WGL: Failed to make context current: 控制代碼無效。 \n",
      "[Open3D WARNING] GLFW Error: WGL: Failed to make context current: 控制代碼無效。 \n",
      "[Open3D WARNING] GLFW Error: WGL: Failed to make context current: 控制代碼無效。 \n",
      "[Open3D WARNING] GLFW Error: WGL: Failed to make context current: 控制代碼無效。 \n",
      "[Open3D WARNING] GLFW Error: WGL: Failed to make context current: 控制代碼無效。 \n",
      "[Open3D WARNING] GLFW Error: WGL: Failed to make context current: 控制代碼無效。 \n"
     ]
    }
   ],
   "source": [
    "import numpy as np\n",
    "\n",
    "query_point_vis = o3d.geometry.PointCloud()\n",
    "# query_point_vis.points = o3d.utility.Vector3dVector(np.array([[0, 0, 0]]))\n",
    "query_point_vis.points = o3d.utility.Vector3dVector(np.array(points))\n",
    "query_point_vis.colors = o3d.utility.Vector3dVector(np.array(colors))\n",
    "\n",
    "coordinate_frame = o3d.geometry.TriangleMesh.create_coordinate_frame(\n",
    "    size=0.1, origin=center\n",
    ")\n",
    "# Visualize the mesh and the query point together\n",
    "# o3d.visualization.draw_geometries([pcd, query_point_vis])#, #, coordinate_frame\n",
    "#                                   # zoom=0.7,\n",
    "#                                   # front=[0.0, 0.0, -1.0],\n",
    "#                                   # lookat=[0, 0, 0],\n",
    "#                                   # up=[0.0, 1.0, 0.0])\n",
    "\n",
    "\n",
    "image_width = 640  # in pixels\n",
    "image_height = 480  # in pixels\n",
    "vis = o3d.visualization.Visualizer()\n",
    "vis.create_window(window_name='SDF Value and Sample point', width=image_width, height=image_height) \n",
    "# vis.create_window()\n",
    "# vis.add_geometry(mesh0)\n",
    "vis.add_geometry(query_point_vis)\n",
    "vis.add_geometry(pcd)\n",
    "\n",
    "#【Note: 那個相機view的符號】\n",
    "# standardCameraParametersObj     = vis.get_view_control().convert_to_pinhole_camera_parameters()\n",
    "# cameraLines = o3d.geometry.LineSet.create_camera_visualization(view_width_px=image_width, view_height_px=image_height, intrinsic=standardCameraParametersObj.intrinsic.intrinsic_matrix, extrinsic=standardCameraParametersObj.extrinsic)\n",
    "# vis.add_geometry(cameraLines)\n",
    "\n",
    "\n",
    "\n",
    "vis.run()\n",
    "\n",
    "vis.destroy_window()\n",
    "\n"
   ]
  },
  {
   "cell_type": "code",
   "execution_count": 4,
   "id": "7164167b-6365-4948-a626-1cd790af34ad",
   "metadata": {},
   "outputs": [],
   "source": [
    "#[[相機參數]] #上面程式只用到image_width & image_height\n",
    "# Camera parameters from Gazebo\n",
    "horizontal_fov =  1.5009832 # in radians 1.089\n",
    "image_width = 640  # in pixels\n",
    "image_height = 480  # in pixels\n",
    "\n",
    "# Calculate the focal length\n",
    "fx = image_width / (2 * np.tan(horizontal_fov / 2))\n",
    "fy = fx  # Assuming square pixels, so fx == fy\n",
    "\n",
    "# Assume cx and cy are at the center of the image\n",
    "cx = image_width / 2\n",
    "cy = image_height / 2\n",
    "\n",
    "intrinsics = o3d.camera.PinholeCameraIntrinsic(image_width, image_height, fx, fy, cx, cy)\n",
    "intrinsic_matrix = np.array(intrinsics)\n",
    "extrinsic_matrix = np.eye(4)  # Example extrinsic matrix (identity matrix)"
   ]
  }
 ],
 "metadata": {
  "kernelspec": {
   "display_name": "Python 3 (ipykernel)",
   "language": "python",
   "name": "python3"
  },
  "language_info": {
   "codemirror_mode": {
    "name": "ipython",
    "version": 3
   },
   "file_extension": ".py",
   "mimetype": "text/x-python",
   "name": "python",
   "nbconvert_exporter": "python",
   "pygments_lexer": "ipython3",
   "version": "3.11.7"
  }
 },
 "nbformat": 4,
 "nbformat_minor": 5
}
